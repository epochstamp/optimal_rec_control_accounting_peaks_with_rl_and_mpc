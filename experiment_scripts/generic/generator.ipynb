{
 "cells": [
  {
   "cell_type": "code",
   "execution_count": 8,
   "id": "3429c3f2-68d5-49e7-be52-3f32170a3d70",
   "metadata": {},
   "outputs": [],
   "source": [
    "from rec_generator import *\n",
    "from rec_gen_utils.solver import *\n",
    "from multiprocessing import Pool\n",
    "from rec_gen_utils.thread_help import mute\n",
    "\n",
    "class MakeMeReadable:\n",
    "    def __init__(self, d):\n",
    "        self.d = d\n",
    "    \n",
    "    def __dir__(self):\n",
    "        return self.d.keys()\n",
    "    \n",
    "    def __getattr__(self, v):\n",
    "        try:\n",
    "            out = self.d[v]\n",
    "            if isinstance(out, dict):\n",
    "                return MakeMeReadable(out)\n",
    "            return out\n",
    "        except:\n",
    "            return getattr(self.d, v)\n",
    "    \n",
    "    def __getitem__(self, v):\n",
    "        return self.__getattr__(v)\n",
    "        \n",
    "    def __str__(self):\n",
    "        print(\"wat\")\n",
    "        return str(self.d)\n",
    "    \n",
    "    def __repr__(self):\n",
    "        return repr(self.d)"
   ]
  },
  {
   "cell_type": "code",
   "execution_count": 9,
   "id": "e005223a-0f94-48aa-8d55-c3d51d6b237e",
   "metadata": {},
   "outputs": [],
   "source": [
    "import pandas as pd\n",
    "import json\n",
    "import os\n",
    "root_dir = os.path.expanduser('~') + \"/OneDrive/wp1/\"\n",
    "#######\n",
    "# Basic limits\n",
    "#######\n",
    "\n",
    "battery_cost_y1 = 518.64\n",
    "battery_cost_y15 = 318.14\n",
    "\n",
    "#######\n",
    "# Demand/injection\n",
    "#######\n",
    "agg_demand = pd.read_parquet(root_dir + \"data/full_mrs/meterings.parquet\")\n",
    "\n",
    "demand = agg_demand.clip(0, None)\n",
    "injection = -agg_demand.clip(None, 0)\n",
    "\n",
    "#######\n",
    "# PV limits per company\n",
    "#######\n",
    "pv_capacity_bounds = json.load(open(root_dir + 'data/pv_limits_per_company.json'))\n",
    "for name in demand.columns:\n",
    "    if name not in pv_capacity_bounds:\n",
    "        pv_capacity_bounds[name] = [0.0, 0.0]\n",
    "\n",
    "#######\n",
    "# Compute various hourly costs\n",
    "#######\n",
    "\n",
    "grid_taxes = json.load(open(root_dir + \"data/prices/additionnal.json\"))\n",
    "days_per_month = [31, 28, 31, 30, 31, 30, 31, 31, 30, 31, 30, 31]\n",
    "grid_import_price = pd.read_parquet(root_dir + \"data/prices/import_prices.parquet\")\n",
    "grid_export_price = pd.read_parquet(root_dir + \"data/prices/export_prices.parquet\")\n",
    "rec_surcharge = pd.read_parquet(root_dir + \"data/prices/rec_surcharge.parquet\")\n",
    "\n",
    "peak_month_price = grid_taxes[\"peak_month\"]\n",
    "peak_month_price_deg = grid_taxes[\"peak_month_discount\"]\n",
    "peak_hist_price = grid_taxes[\"peak_hist\"]\n",
    "peak_hist_price_deg = grid_taxes[\"peak_hist_discount\"]\n",
    "peak_demand_1st_to_11th_coef = 1.0\n",
    "\n",
    "members = [\n",
    "    RECMember(\n",
    "        name=name,\n",
    "        # we set the minimum at 0 because the current PV is already counted in the AMRs\n",
    "        pv_maximum_capacity=pv_capacity_bounds[name][1] - pv_capacity_bounds[name][0],\n",
    "        pv_minimum_capacity=0,\n",
    "        battery_maximum_capacity=3*pv_capacity_bounds[name][1],\n",
    "        battery_minimum_capacity=0,\n",
    "        battery_cost_y1=battery_cost_y1,\n",
    "        battery_cost_y15=battery_cost_y15,\n",
    "        demand=demand[name].to_numpy(),\n",
    "        base_injection=injection[name].to_numpy(),\n",
    "        grid_import_price=grid_import_price[name].to_numpy(),\n",
    "        grid_export_price=grid_export_price[name].to_numpy(),\n",
    "        rec_energy_surcharge=rec_surcharge[name].to_numpy(),\n",
    "        peak_month_price=peak_month_price,\n",
    "        peak_month_price_deg=peak_month_price_deg,\n",
    "        peak_hist_price=peak_hist_price,\n",
    "        peak_hist_price_deg=peak_hist_price_deg,\n",
    "        peak_demand_1st_to_11th_coef=peak_demand_1st_to_11th_coef)\n",
    "    for name in demand.columns\n",
    "]\n",
    "\n",
    "zoning_current = REC(members, allow_rec_exchanges=False, grid_environmental_impact=np.loadtxt(root_dir + \"data/impact_grid_2019.csv\"))\n",
    "zoning_rec = REC(members, allow_rec_exchanges=True, grid_environmental_impact=np.loadtxt(root_dir + \"data/impact_grid_2019.csv\"))"
   ]
  },
  {
   "cell_type": "code",
   "execution_count": 10,
   "id": "9df7eb7a-9965-4452-8b68-e3c509e995af",
   "metadata": {},
   "outputs": [],
   "source": [
    "def modify_member(orec, what, how):\n",
    "    def intern(m):\n",
    "        return dataclasses.replace(m, **{what: how(m)})\n",
    "    return dataclasses.replace(orec, members=[intern(m) for m in orec.members])\n",
    "def compute_env_impact(readable):\n",
    "    return sum(getattr(readable.solution.elements, f\"MEMBER_{i}\").variables.environmental_impact.values[0] for i in range(28))\n",
    "\n",
    "zoning_noinvest = modify_member(zoning_current, \"pv_maximum_capacity\", lambda x: 0)\n",
    "zoning_noinvest = modify_member(zoning_current, \"battery_maximum_capacity\", lambda x: 0)\n",
    "zoning_noinvest_rec = modify_member(zoning_rec, \"pv_maximum_capacity\", lambda x: 0)\n",
    "zoning_noinvest_rec = modify_member(zoning_rec, \"battery_maximum_capacity\", lambda x: 0)"
   ]
  },
  {
   "cell_type": "code",
   "execution_count": 11,
   "id": "7e73189b-6731-4186-adb2-fb7e20911495",
   "metadata": {},
   "outputs": [],
   "source": [
    "\n",
    "rec = zoning_current#gen_and_solve(zoning_current, Path(os.path.expanduser('~') + \"/.tmp\"), base_path=root_dir)\n",
    "import dataclasses, json\n",
    "\n",
    "class EnhancedJSONEncoder(json.JSONEncoder):\n",
    "        def default(self, o):\n",
    "            if dataclasses.is_dataclass(o):\n",
    "                return dataclasses.asdict(o)\n",
    "            elif isinstance(o, np.ndarray):\n",
    "                return o.tolist()\n",
    "            return super().default(o)\n",
    "with open(os.path.expanduser('~') + \"/rec_paper_peaks_code/envs/big_rec_data/big_rec.json\", \"w\") as frec:\n",
    "    json.dump(rec, frec, cls=EnhancedJSONEncoder)\n",
    "#solution_rec = gen_instance(Path(os.path.expanduser('~') + \"/.tmp\"), zoning_rec, base_path=root_dir)#gen_and_solve(zoning_rec, Path(os.path.expanduser('~') + \"/.tmp\"), base_path=root_dir)\n",
    "#print(zoning_current)\n",
    "#print(zoning_rec)"
   ]
  },
  {
   "cell_type": "code",
   "execution_count": null,
   "id": "098c36b3-6904-4969-85b7-46c15206c23f",
   "metadata": {},
   "outputs": [],
   "source": []
  },
  {
   "cell_type": "code",
   "execution_count": 12,
   "id": "0fd706d2-d6b2-4fa7-acc4-999f94736ae7",
   "metadata": {},
   "outputs": [
    {
     "ename": "FileNotFoundError",
     "evalue": "[Errno 2] No such file or directory: 'tmp/6094130e737b5b218a6382eac9b475f8d5c8215799c66da84632db9533d122c9'",
     "output_type": "error",
     "traceback": [
      "\u001b[0;31m---------------------------------------------------------------------------\u001b[0m",
      "\u001b[0;31mRemoteTraceback\u001b[0m                           Traceback (most recent call last)",
      "\u001b[0;31mRemoteTraceback\u001b[0m: \n\"\"\"\nTraceback (most recent call last):\n  File \"/home/samait/anaconda3/envs/rec_peaks_paper_env/lib/python3.10/multiprocessing/pool.py\", line 125, in worker\n    result = (True, func(*args, **kwds))\n  File \"/home/samait/rec_paper_peaks_code/experiment_scripts/generic/rec_gen_utils/solver.py\", line 33, in gen_and_solve\n    return solve(dirpath, gen_instance(dirpath, rec, **kwargs))\n  File \"/home/samait/rec_paper_peaks_code/experiment_scripts/generic/rec_generator.py\", line 146, in gen_instance\n    (instance_folder / name).mkdir()\n  File \"/home/samait/anaconda3/envs/rec_peaks_paper_env/lib/python3.10/pathlib.py\", line 1175, in mkdir\n    self._accessor.mkdir(self, mode)\nFileNotFoundError: [Errno 2] No such file or directory: 'tmp/6094130e737b5b218a6382eac9b475f8d5c8215799c66da84632db9533d122c9'\n\"\"\"",
      "\nThe above exception was the direct cause of the following exception:\n",
      "\u001b[0;31mFileNotFoundError\u001b[0m                         Traceback (most recent call last)",
      "Cell \u001b[0;32mIn[12], line 10\u001b[0m\n\u001b[1;32m      6\u001b[0m     \u001b[39mreturn\u001b[39;00m pool\u001b[39m.\u001b[39mapply_async(gen_and_solve, (rec,))\n\u001b[1;32m      7\u001b[0m sensi_pv \u001b[39m=\u001b[39m [(i, \n\u001b[1;32m      8\u001b[0m              gen_and_solve_async(mul_pv_max(zoning_current, i)), \n\u001b[1;32m      9\u001b[0m              gen_and_solve_async(mul_pv_max(zoning_rec, i))) \u001b[39mfor\u001b[39;00m i \u001b[39min\u001b[39;00m np\u001b[39m.\u001b[39marange(\u001b[39m0\u001b[39m, \u001b[39m3\u001b[39m, \u001b[39m0.25\u001b[39m, dtype\u001b[39m=\u001b[39m\u001b[39mfloat\u001b[39m)]\n\u001b[0;32m---> 10\u001b[0m sensi_pv \u001b[39m=\u001b[39m [(i, MakeMeReadable(j\u001b[39m.\u001b[39mget()), MakeMeReadable(k\u001b[39m.\u001b[39mget())) \u001b[39mfor\u001b[39;00m i, j, k \u001b[39min\u001b[39;00m sensi_pv]\n\u001b[1;32m     11\u001b[0m sensi_pv_bat \u001b[39m=\u001b[39m [(i, \n\u001b[1;32m     12\u001b[0m              \u001b[39m*\u001b[39m[\u001b[39mgetattr\u001b[39m(j\u001b[39m.\u001b[39msolution\u001b[39m.\u001b[39melements, \u001b[39mf\u001b[39m\u001b[39m\"\u001b[39m\u001b[39mMEMBER_\u001b[39m\u001b[39m{\u001b[39;00ma\u001b[39m}\u001b[39;00m\u001b[39m\"\u001b[39m)\u001b[39m.\u001b[39msub_elements\u001b[39m.\u001b[39mBATTERY\u001b[39m.\u001b[39mvariables\u001b[39m.\u001b[39mcapacity\u001b[39m.\u001b[39mvalues[\u001b[39m0\u001b[39m] \u001b[39mfor\u001b[39;00m a \u001b[39min\u001b[39;00m \u001b[39mrange\u001b[39m(\u001b[39m28\u001b[39m)],\n\u001b[1;32m     13\u001b[0m              \u001b[39m*\u001b[39m[\u001b[39mgetattr\u001b[39m(k\u001b[39m.\u001b[39msolution\u001b[39m.\u001b[39melements, \u001b[39mf\u001b[39m\u001b[39m\"\u001b[39m\u001b[39mMEMBER_\u001b[39m\u001b[39m{\u001b[39;00ma\u001b[39m}\u001b[39;00m\u001b[39m\"\u001b[39m)\u001b[39m.\u001b[39msub_elements\u001b[39m.\u001b[39mBATTERY\u001b[39m.\u001b[39mvariables\u001b[39m.\u001b[39mcapacity\u001b[39m.\u001b[39mvalues[\u001b[39m0\u001b[39m] \u001b[39mfor\u001b[39;00m a \u001b[39min\u001b[39;00m \u001b[39mrange\u001b[39m(\u001b[39m28\u001b[39m)],\n\u001b[1;32m     14\u001b[0m             )\n\u001b[1;32m     15\u001b[0m             \u001b[39mfor\u001b[39;00m i, j, k \u001b[39min\u001b[39;00m sensi_pv]\n\u001b[1;32m     16\u001b[0m sensi_pv_env \u001b[39m=\u001b[39m [(i, compute_env_impact(j), compute_env_impact(k)) \u001b[39mfor\u001b[39;00m i, j, k \u001b[39min\u001b[39;00m sensi_pv]\n",
      "Cell \u001b[0;32mIn[12], line 10\u001b[0m, in \u001b[0;36m<listcomp>\u001b[0;34m(.0)\u001b[0m\n\u001b[1;32m      6\u001b[0m     \u001b[39mreturn\u001b[39;00m pool\u001b[39m.\u001b[39mapply_async(gen_and_solve, (rec,))\n\u001b[1;32m      7\u001b[0m sensi_pv \u001b[39m=\u001b[39m [(i, \n\u001b[1;32m      8\u001b[0m              gen_and_solve_async(mul_pv_max(zoning_current, i)), \n\u001b[1;32m      9\u001b[0m              gen_and_solve_async(mul_pv_max(zoning_rec, i))) \u001b[39mfor\u001b[39;00m i \u001b[39min\u001b[39;00m np\u001b[39m.\u001b[39marange(\u001b[39m0\u001b[39m, \u001b[39m3\u001b[39m, \u001b[39m0.25\u001b[39m, dtype\u001b[39m=\u001b[39m\u001b[39mfloat\u001b[39m)]\n\u001b[0;32m---> 10\u001b[0m sensi_pv \u001b[39m=\u001b[39m [(i, MakeMeReadable(j\u001b[39m.\u001b[39;49mget()), MakeMeReadable(k\u001b[39m.\u001b[39mget())) \u001b[39mfor\u001b[39;00m i, j, k \u001b[39min\u001b[39;00m sensi_pv]\n\u001b[1;32m     11\u001b[0m sensi_pv_bat \u001b[39m=\u001b[39m [(i, \n\u001b[1;32m     12\u001b[0m              \u001b[39m*\u001b[39m[\u001b[39mgetattr\u001b[39m(j\u001b[39m.\u001b[39msolution\u001b[39m.\u001b[39melements, \u001b[39mf\u001b[39m\u001b[39m\"\u001b[39m\u001b[39mMEMBER_\u001b[39m\u001b[39m{\u001b[39;00ma\u001b[39m}\u001b[39;00m\u001b[39m\"\u001b[39m)\u001b[39m.\u001b[39msub_elements\u001b[39m.\u001b[39mBATTERY\u001b[39m.\u001b[39mvariables\u001b[39m.\u001b[39mcapacity\u001b[39m.\u001b[39mvalues[\u001b[39m0\u001b[39m] \u001b[39mfor\u001b[39;00m a \u001b[39min\u001b[39;00m \u001b[39mrange\u001b[39m(\u001b[39m28\u001b[39m)],\n\u001b[1;32m     13\u001b[0m              \u001b[39m*\u001b[39m[\u001b[39mgetattr\u001b[39m(k\u001b[39m.\u001b[39msolution\u001b[39m.\u001b[39melements, \u001b[39mf\u001b[39m\u001b[39m\"\u001b[39m\u001b[39mMEMBER_\u001b[39m\u001b[39m{\u001b[39;00ma\u001b[39m}\u001b[39;00m\u001b[39m\"\u001b[39m)\u001b[39m.\u001b[39msub_elements\u001b[39m.\u001b[39mBATTERY\u001b[39m.\u001b[39mvariables\u001b[39m.\u001b[39mcapacity\u001b[39m.\u001b[39mvalues[\u001b[39m0\u001b[39m] \u001b[39mfor\u001b[39;00m a \u001b[39min\u001b[39;00m \u001b[39mrange\u001b[39m(\u001b[39m28\u001b[39m)],\n\u001b[1;32m     14\u001b[0m             )\n\u001b[1;32m     15\u001b[0m             \u001b[39mfor\u001b[39;00m i, j, k \u001b[39min\u001b[39;00m sensi_pv]\n\u001b[1;32m     16\u001b[0m sensi_pv_env \u001b[39m=\u001b[39m [(i, compute_env_impact(j), compute_env_impact(k)) \u001b[39mfor\u001b[39;00m i, j, k \u001b[39min\u001b[39;00m sensi_pv]\n",
      "File \u001b[0;32m~/anaconda3/envs/rec_peaks_paper_env/lib/python3.10/multiprocessing/pool.py:774\u001b[0m, in \u001b[0;36mApplyResult.get\u001b[0;34m(self, timeout)\u001b[0m\n\u001b[1;32m    772\u001b[0m     \u001b[39mreturn\u001b[39;00m \u001b[39mself\u001b[39m\u001b[39m.\u001b[39m_value\n\u001b[1;32m    773\u001b[0m \u001b[39melse\u001b[39;00m:\n\u001b[0;32m--> 774\u001b[0m     \u001b[39mraise\u001b[39;00m \u001b[39mself\u001b[39m\u001b[39m.\u001b[39m_value\n",
      "\u001b[0;31mFileNotFoundError\u001b[0m: [Errno 2] No such file or directory: 'tmp/6094130e737b5b218a6382eac9b475f8d5c8215799c66da84632db9533d122c9'"
     ]
    }
   ],
   "source": [
    "def mul_pv_max(orec, x=1.0):\n",
    "    return modify_member(orec, \"pv_maximum_capacity\", lambda m: m.pv_maximum_capacity * x)\n",
    "\n",
    "with Pool(3, initializer=mute) as pool:\n",
    "    def gen_and_solve_async(rec):\n",
    "        return pool.apply_async(gen_and_solve, (rec,))\n",
    "    sensi_pv = [(i, \n",
    "                 gen_and_solve_async(mul_pv_max(zoning_current, i)), \n",
    "                 gen_and_solve_async(mul_pv_max(zoning_rec, i))) for i in np.arange(0, 3, 0.25, dtype=float)]\n",
    "    sensi_pv = [(i, MakeMeReadable(j.get()), MakeMeReadable(k.get())) for i, j, k in sensi_pv]\n",
    "    sensi_pv_bat = [(i, \n",
    "                 *[getattr(j.solution.elements, f\"MEMBER_{a}\").sub_elements.BATTERY.variables.capacity.values[0] for a in range(28)],\n",
    "                 *[getattr(k.solution.elements, f\"MEMBER_{a}\").sub_elements.BATTERY.variables.capacity.values[0] for a in range(28)],\n",
    "                )\n",
    "                for i, j, k in sensi_pv]\n",
    "    sensi_pv_env = [(i, compute_env_impact(j), compute_env_impact(k)) for i, j, k in sensi_pv]\n",
    "    sensi_pv = [(i, j.solution.objective, k.solution.objective) for i, j, k in sensi_pv]\n",
    "sensi_pv"
   ]
  },
  {
   "cell_type": "code",
   "execution_count": null,
   "id": "e816bcae-1397-4bac-9367-76ab441e3120",
   "metadata": {},
   "outputs": [],
   "source": [
    "pd.DataFrame(sensi_pv_bat, columns=['mul']+[f'cur_{i}' for i in range(28)]+[f'rec_{i}' for i in range(28)]).set_index(\"mul\").sum(axis=1)"
   ]
  },
  {
   "cell_type": "code",
   "execution_count": null,
   "id": "b9b70436-489f-4f6d-80a1-ad5329d22abc",
   "metadata": {},
   "outputs": [],
   "source": [
    "pd.DataFrame(sensi_pv_env, columns=['mul', 'env_cur', 'env_rec']).set_index(\"mul\")"
   ]
  },
  {
   "cell_type": "code",
   "execution_count": null,
   "id": "4d6c19ff-19b2-48e7-9178-436589d4ceb8",
   "metadata": {},
   "outputs": [],
   "source": [
    "def mul_surcharge(orec, x=1.0):\n",
    "    return modify_member(orec, \"rec_energy_surcharge\", lambda m: m.rec_energy_surcharge * x)\n",
    "\n",
    "with Pool(3, initializer=mute) as pool:\n",
    "    def gen_and_solve_async(rec):\n",
    "        return pool.apply_async(gen_and_solve, (rec,))\n",
    "    sensi_surcharge = [(i, gen_and_solve_async(mul_surcharge(zoning_rec, i))) for i in np.arange(0, 1.01, 0.1, dtype=float)]\n",
    "    sensi_surcharge = [(i, MakeMeReadable(j.get())) for i, j in sensi_surcharge]\n",
    "    sensi_surcharge_bat = [(i, *[getattr(j.solution.elements, f\"MEMBER_{k}\").sub_elements.BATTERY.variables.capacity.values[0] for k in range(28)]) for i, j in sensi_surcharge]\n",
    "    sensi_surcharge = [(i, j.solution.objective) for i, j in sensi_surcharge]    \n",
    "sensi_surcharge"
   ]
  },
  {
   "cell_type": "code",
   "execution_count": null,
   "id": "114dfea2-51f9-4ff7-be16-7ffacf82d6b7",
   "metadata": {},
   "outputs": [],
   "source": [
    "pd.DataFrame(sensi_surcharge_bat, columns=['mul']+[f'rec_{i}' for i in range(28)]).set_index(\"mul\").sum(axis=1)"
   ]
  },
  {
   "cell_type": "code",
   "execution_count": null,
   "id": "a3aaab62-50e9-48d0-a34a-d424870917ea",
   "metadata": {},
   "outputs": [],
   "source": [
    "def mul_battery_max(orec, x):\n",
    "    return modify_member(orec, \"battery_maximum_capacity\", lambda m: m.pv_maximum_capacity * x)\n",
    "\n",
    "with Pool(3, initializer=mute) as pool:\n",
    "    def gen_and_solve_async(rec):\n",
    "        return pool.apply_async(gen_and_solve, (rec,))\n",
    "    sensi_bat = [(i, \n",
    "                 gen_and_solve_async(mul_battery_max(zoning_current, i)), \n",
    "                 gen_and_solve_async(mul_battery_max(zoning_rec, i))) for i in np.arange(0, 6.1, 0.5, dtype=float)]\n",
    "    sensi_bat = [(i, j.get()['solution']['objective'], k.get()['solution']['objective']) for i, j, k in sensi_bat]\n",
    "sensi_bat"
   ]
  },
  {
   "cell_type": "code",
   "execution_count": null,
   "id": "71932ed0-7401-45e6-a893-9cb08bf72a0f",
   "metadata": {},
   "outputs": [],
   "source": [
    "def mul_battery_max_p(orec, x):\n",
    "    orec = modify_member(orec, \"battery_cost_y1\", lambda m: m.battery_cost_y1 * x)\n",
    "    orec = modify_member(orec, \"battery_cost_y15\", lambda m: m.battery_cost_y15 * x)\n",
    "    return orec\n",
    "\n",
    "with Pool(3, initializer=mute) as pool:\n",
    "    def gen_and_solve_async(rec):\n",
    "        return pool.apply_async(gen_and_solve, (rec,))\n",
    "    sensi_bat_p = [(i, \n",
    "                 gen_and_solve_async(mul_battery_max_p(zoning_current, i)), \n",
    "                 gen_and_solve_async(mul_battery_max_p(zoning_rec, i))) for i in np.arange(0.1, 1.21, 0.1, dtype=float)]\n",
    "    \n",
    "    \n",
    "    sensi_bat_p = [(i, MakeMeReadable(j.get()), MakeMeReadable(k.get())) for i, j, k in sensi_bat_p]\n",
    "    sensi_bat_p_bat = [(i, \n",
    "                 sum([getattr(j.solution.elements, f\"MEMBER_{a}\").sub_elements.BATTERY.variables.capacity.values[0] for a in range(28)]),\n",
    "                 sum([getattr(k.solution.elements, f\"MEMBER_{a}\").sub_elements.BATTERY.variables.capacity.values[0] for a in range(28)]),\n",
    "                )\n",
    "                for i, j, k in sensi_bat_p]\n",
    "    sensi_bat_p = [(i, j.solution.objective, k.solution.objective) for i, j, k in sensi_bat_p]\n",
    "sensi_bat_p"
   ]
  },
  {
   "cell_type": "code",
   "execution_count": null,
   "id": "4f4f3abd-85b3-428e-8d6b-5b48d71170c2",
   "metadata": {},
   "outputs": [],
   "source": [
    "pd.DataFrame(sensi_bat_p_bat, columns=['mul', 'installed_cur', 'installed_rec']).set_index(\"mul\")"
   ]
  },
  {
   "cell_type": "code",
   "execution_count": null,
   "id": "730b60f5-e462-4e38-81e2-f3910c32afa9",
   "metadata": {},
   "outputs": [],
   "source": [
    "def modify(orec, x):\n",
    "    orec = modify_member(orec, \"grid_import_price\", lambda m: (m.grid_import_price - m.rec_energy_surcharge)*x + m.rec_energy_surcharge)\n",
    "    orec = modify_member(orec, \"grid_export_price\", lambda m: m.grid_export_price*x)\n",
    "    return orec\n",
    "\n",
    "with Pool(3, initializer=mute) as pool:\n",
    "    def gen_and_solve_async(rec):\n",
    "        return pool.apply_async(gen_and_solve, (rec,))\n",
    "    sensi_elec_p = [(i, \n",
    "                     gen_and_solve_async(modify(zoning_current, i)), \n",
    "                     gen_and_solve_async(modify(zoning_rec, i)),\n",
    "                     gen_and_solve_async(modify(zoning_noinvest, i)),\n",
    "                     gen_and_solve_async(modify(zoning_noinvest_rec, i))\n",
    "                    ) \n",
    "                    for i in np.arange(1, 4.1, 0.25, dtype=float)\n",
    "                   ]\n",
    "    sensi_elec_p = [(i, MakeMeReadable(j.get()), MakeMeReadable(k.get()), MakeMeReadable(l.get()), MakeMeReadable(m.get())) for i, j, k, l, m in sensi_elec_p]\n",
    "    sensi_elec_p_bat = [(i, \n",
    "                         sum([getattr(j.solution.elements, f\"MEMBER_{a}\").sub_elements.BATTERY.variables.capacity.values[0] for a in range(28)]),\n",
    "                         sum([getattr(k.solution.elements, f\"MEMBER_{a}\").sub_elements.BATTERY.variables.capacity.values[0] for a in range(28)]),\n",
    "                         sum([getattr(l.solution.elements, f\"MEMBER_{a}\").sub_elements.BATTERY.variables.capacity.values[0] for a in range(28)]),\n",
    "                         sum([getattr(m.solution.elements, f\"MEMBER_{a}\").sub_elements.BATTERY.variables.capacity.values[0] for a in range(28)]),\n",
    "                        )\n",
    "                        for i, j, k, l, m in sensi_elec_p]\n",
    "    sensi_elec_p = [(i, \n",
    "                     j.solution.objective, \n",
    "                     k.solution.objective,\n",
    "                     l.solution.objective,\n",
    "                     m.solution.objective\n",
    "                    ) for i, j, k, l, m in sensi_elec_p]\n",
    "sensi_elec_p"
   ]
  },
  {
   "cell_type": "code",
   "execution_count": null,
   "id": "99063dd8-2677-4d8f-9904-5e09d5d2b57c",
   "metadata": {},
   "outputs": [],
   "source": [
    "df = pd.DataFrame(sensi_elec_p_bat, columns=[\"Multiplicateur prix elec\", \"no_rec\", \"rec\", \"no_invest_no_rec\", \"no_invest_rec\"]).set_index(\"Multiplicateur prix elec\")\n",
    "df[[\"no_rec\", \"rec\"]].plot(figsize=(16/2,9/2), title=\"Capacité batterie installée en fonction du prix de l'électricité (kWh)\")"
   ]
  },
  {
   "cell_type": "code",
   "execution_count": null,
   "id": "6b4195f4-d8de-4179-ab75-1a2e76610964",
   "metadata": {},
   "outputs": [],
   "source": [
    "sum((d.members[i].grid_import_price.mean() - d.members[i].rec_energy_surcharge.mean())*1000 for i in range(28))/28"
   ]
  },
  {
   "cell_type": "code",
   "execution_count": null,
   "id": "1c7bfe74-1363-4453-90c5-c3b099997d8e",
   "metadata": {},
   "outputs": [],
   "source": [
    "df = pd.DataFrame(sensi_elec_p, columns=[\"Multiplicateur prix elec\", \"no_rec\", \"rec\", \"no_invest_no_rec\", \"no_invest_rec\"]).set_index(\"Multiplicateur prix elec\")\n",
    "(100.0*(df.no_rec - df.rec)/(df.no_rec)).plot(figsize=(16/2,9/2), title=\"Economie supplémentaire en REC (%) en fonction du prix de l'électricité\")"
   ]
  },
  {
   "cell_type": "code",
   "execution_count": null,
   "id": "24da8c11-662b-4be9-83d8-0fcaaaf8f06e",
   "metadata": {},
   "outputs": [],
   "source": [
    "df.plot(figsize=(16/2,9/2), title=\"Coûts totaux en fonction du prix de l'électricité (M€)\")"
   ]
  },
  {
   "cell_type": "code",
   "execution_count": null,
   "id": "a1014106-4375-4992-8c6c-89ca76ec46a1",
   "metadata": {},
   "outputs": [],
   "source": [
    "df.sub(df.rec, axis=0).plot(figsize=(16/2,9/2), title=\"Coûts supplémentaires hors-invest hors-rec (€)\")"
   ]
  },
  {
   "cell_type": "code",
   "execution_count": null,
   "id": "f7d32f83-e688-4651-ab32-5f69eb179137",
   "metadata": {},
   "outputs": [],
   "source": [
    "df[\"diff\"] = df.no_rec - df.rec\n",
    "df[\"diff\"].plot()"
   ]
  },
  {
   "cell_type": "code",
   "execution_count": null,
   "id": "bfc64b6d-bf67-4252-8978-6a30118892e0",
   "metadata": {},
   "outputs": [],
   "source": [
    "pd.DataFrame(sensi_surcharge, co)"
   ]
  },
  {
   "cell_type": "code",
   "execution_count": null,
   "id": "7b5c6d04-3230-4a16-b120-961d2967743d",
   "metadata": {},
   "outputs": [],
   "source": [
    "d = MakeMeReadable(gen_and_solve(mul_battery_max(zoning_current, 1.0)))\n",
    "gen_instance(Path(\"tmp\"), mul_battery_max(zoning_current, 1.0))"
   ]
  },
  {
   "cell_type": "code",
   "execution_count": null,
   "id": "7a203f5b-74a4-4577-8bde-b17a2287db03",
   "metadata": {},
   "outputs": [],
   "source": [
    "def mul_battery_max(orec, x, p):\n",
    "    orec = modify_member(orec, \"battery_maximum_capacity\", lambda m: m.pv_maximum_capacity * x)\n",
    "    orec = modify_member(orec, \"battery_cost_y1\", lambda m: p)\n",
    "    orec = modify_member(orec, \"battery_cost_y15\", lambda m: p)\n",
    "    return orec\n",
    "\n",
    "\n",
    "a = gen_and_solve(mul_battery_max(zoning_current, 1.0, 10))['solution']['objective']\n",
    "b = gen_and_solve(mul_battery_max(zoning_current, 1.0, 100))['solution']['objective']\n",
    "c = gen_and_solve(mul_battery_max(zoning_current, 1.0, 300))['solution']['objective']\n",
    "print(a, b, c)"
   ]
  },
  {
   "cell_type": "code",
   "execution_count": null,
   "id": "d91952d0-ab8e-41a4-ab8c-75ff4a1c849a",
   "metadata": {},
   "outputs": [],
   "source": [
    "d = MakeMeReadable(solution_current)"
   ]
  },
  {
   "cell_type": "code",
   "execution_count": null,
   "id": "def59d67-e8f3-4673-9a8c-40a8442eb8e7",
   "metadata": {},
   "outputs": [],
   "source": [
    "compute_env_impact(d)"
   ]
  },
  {
   "cell_type": "code",
   "execution_count": null,
   "id": "ce666c50-c7fc-485b-91e1-adbc4d6368cd",
   "metadata": {},
   "outputs": [],
   "source": [
    "zoning_current.members[12]"
   ]
  },
  {
   "cell_type": "code",
   "execution_count": null,
   "id": "634bc3aa-0418-43c1-bcce-3128916e79eb",
   "metadata": {},
   "outputs": [],
   "source": [
    "d.solution.elements.MEMBER_12.sub_elements.PV.variables.costs.values[0]/d.solution.elements.MEMBER_12.sub_elements.PV.variables.capacity.values[0]"
   ]
  },
  {
   "cell_type": "code",
   "execution_count": null,
   "id": "b14d0c57-c6e9-4305-8ab2-268bd1e22f9a",
   "metadata": {},
   "outputs": [],
   "source": [
    "for i in range(27):\n",
    "    costs = getattr(d.solution.elements, f\"MEMBER_{i}\").sub_elements.PV.variables.costs.values[0]\n",
    "    capa = getattr(d.solution.elements, f\"MEMBER_{i}\").sub_elements.PV.variables.capacity.values[0]\n",
    "    print(costs/capa/0.07 if capa != 0.0 else 0)"
   ]
  },
  {
   "cell_type": "code",
   "execution_count": null,
   "id": "5bbb65d0-53c2-4702-8811-64a7e005ae64",
   "metadata": {},
   "outputs": [],
   "source": [
    "for x in d.solution.elements.d:\n",
    "    if \"MEMBER_\" in x:\n",
    "        print(d.solution.elements[x].sub_elements.BATTERY.variables.capacity.values[0])"
   ]
  },
  {
   "cell_type": "code",
   "execution_count": null,
   "id": "5741722a-84eb-478e-a0ea-68228e8543ba",
   "metadata": {},
   "outputs": [],
   "source": [
    "(solution_rec['solution']['objective'] - solution_current['solution']['objective'])/solution_current['solution']['objective']"
   ]
  },
  {
   "cell_type": "code",
   "execution_count": null,
   "id": "7ddc45d3-e14b-47e8-bd41-77c1ae1d88d1",
   "metadata": {},
   "outputs": [],
   "source": [
    "solution_rec_invest = solution_rec\n",
    "solution_current_invest = solution_current"
   ]
  },
  {
   "cell_type": "code",
   "execution_count": null,
   "id": "1bd379b4-5d90-491e-bc72-3875a0cb6bbb",
   "metadata": {},
   "outputs": [],
   "source": [
    "solution_rec['solution']['objective'] - solution_current['solution']['objective']"
   ]
  },
  {
   "cell_type": "code",
   "execution_count": null,
   "id": "6251c208-c737-4d9c-a021-6800282425c9",
   "metadata": {},
   "outputs": [],
   "source": [
    "demand['NRB'].plot(figsize=(15, 15)) #TODO: regarder ce qu'il se passe. wut."
   ]
  },
  {
   "cell_type": "code",
   "execution_count": null,
   "id": "e30e47d5-e7da-4183-8bd1-e7109a199814",
   "metadata": {},
   "outputs": [],
   "source": [
    "demand.plot(figsize=(15, 15))"
   ]
  },
  {
   "cell_type": "code",
   "execution_count": null,
   "id": "03775c15-b516-4d76-abe5-39706c68f840",
   "metadata": {},
   "outputs": [],
   "source": []
  }
 ],
 "metadata": {
  "kernelspec": {
   "display_name": "rec_peaks_paper_env",
   "language": "python",
   "name": "python3"
  },
  "language_info": {
   "codemirror_mode": {
    "name": "ipython",
    "version": 3
   },
   "file_extension": ".py",
   "mimetype": "text/x-python",
   "name": "python",
   "nbconvert_exporter": "python",
   "pygments_lexer": "ipython3",
   "version": "3.10.9"
  },
  "vscode": {
   "interpreter": {
    "hash": "1d667d769095857487ca0fdf3db73ef3657dbeb29b65361499e3f1103c32264b"
   }
  }
 },
 "nbformat": 4,
 "nbformat_minor": 5
}
